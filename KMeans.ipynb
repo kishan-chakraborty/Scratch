{
 "cells": [
  {
   "cell_type": "code",
   "execution_count": 9,
   "metadata": {},
   "outputs": [],
   "source": [
    "import numpy as  np\n",
    "import pandas as pd\n",
    "import matplotlib.pyplot as plt"
   ]
  },
  {
   "cell_type": "code",
   "execution_count": 2,
   "metadata": {},
   "outputs": [],
   "source": [
    "def Euclidean(x1, x2):\n",
    "    return np.sqrt(np.sum((x1- x2)**2))"
   ]
  },
  {
   "cell_type": "code",
   "execution_count": 56,
   "metadata": {},
   "outputs": [],
   "source": [
    "class KMeans:\n",
    "    def __init__(self, k= 4, max_iter= 100):\n",
    "        self.k= k\n",
    "        self.max_iter= max_iter\n",
    "\n",
    "        #Keep track of centroids for the clusters\n",
    "        self.centroids= []\n",
    "\n",
    "        #Keep track of indices of samples in each clusters\n",
    "        self.clusters= [[] for _ in range(self.k)]\n",
    "\n",
    "    def predict(self, X):\n",
    "        self.X= X\n",
    "        self.n_sample, self.n_features= X.shape\n",
    "\n",
    "        init_indices= np.random.choice(self.n_sample, self.k, replace= False)\n",
    "        self.centroids= [self.X[index] for index in init_indices]\n",
    "\n",
    "        for _ in range(self.max_iter):\n",
    "            self.clusters= self._create_clusters(self.centroids)\n",
    "\n",
    "            centroids_old= self.centroids\n",
    "            self.centroids= self._get_centroids(self.clusters)\n",
    "\n",
    "            if self._is_converged(self.centroids, centroids_old):\n",
    "                break\n",
    "\n",
    "        return self._get_cluster_labels(self.clusters)\n",
    "\n",
    "    def _get_cluster_labels(self, clusters):\n",
    "        self.labels= np.empty(self.n_sample)\n",
    "        for cluster_idx, cluster in enumerate(clusters):\n",
    "            for idx in cluster:\n",
    "                self.labels[idx]= cluster_idx\n",
    "        \n",
    "        return self.labels\n",
    "\n",
    "\n",
    "    def _create_clusters(self, centroids):\n",
    "        clusters= [[] for i in range(self.k)]\n",
    "        for idx, sample in enumerate(self.X):\n",
    "            centroid_idx= self._closest_centroid(sample, centroids)\n",
    "            clusters[centroid_idx].append(idx)\n",
    "        return clusters\n",
    "\n",
    "\n",
    "    def _closest_centroid(self, sample, centroids):\n",
    "        return np.argmin([Euclidean(sample, centroids[i]) for i in range(self.k)])\n",
    "\n",
    "    def _get_centroids(self, clusters):\n",
    "        centroids= np.zeros((self.k, self.n_features))\n",
    "        for cluster_idx, cluster in enumerate(clusters):\n",
    "            cluster_mean= np.mean(self.X[cluster], axis= 0)\n",
    "            centroids[cluster_idx]= cluster_mean\n",
    "        return centroids\n",
    "\n",
    "    def _is_converged(self, old_centroids, new_centroids):\n",
    "        distance= [Euclidean(old_centroids[i], new_centroids[i]) for i in range(self.k)]\n",
    "        return np.sum(distance)== 0"
   ]
  },
  {
   "cell_type": "code",
   "execution_count": 11,
   "metadata": {},
   "outputs": [],
   "source": [
    "from sklearn.datasets import make_blobs"
   ]
  },
  {
   "cell_type": "code",
   "execution_count": 44,
   "metadata": {},
   "outputs": [
    {
     "name": "stdout",
     "output_type": "stream",
     "text": [
      "(500, 2)\n"
     ]
    }
   ],
   "source": [
    "X, y= make_blobs(centers= 4, n_samples= 500, n_features= 2, shuffle= True, random_state= 42)\n",
    "print(X.shape)"
   ]
  },
  {
   "cell_type": "code",
   "execution_count": 57,
   "metadata": {},
   "outputs": [],
   "source": [
    "kmeans= KMeans()\n",
    "predicted_class= kmeans.predict(X)"
   ]
  },
  {
   "cell_type": "code",
   "execution_count": 64,
   "metadata": {},
   "outputs": [
    {
     "data": {
      "text/plain": [
       "<matplotlib.collections.PathCollection at 0x10bf384c9d0>"
      ]
     },
     "execution_count": 64,
     "metadata": {},
     "output_type": "execute_result"
    },
    {
     "data": {
      "image/png": "[encoded data removed]",
      "text/plain": [
       "<Figure size 432x288 with 1 Axes>"
      ]
     },
     "metadata": {
      "needs_background": "light"
     },
     "output_type": "display_data"
    }
   ],
   "source": [
    "plt.scatter(X[:, 0], X[:, 1])"
   ]
  },
  {
   "cell_type": "code",
   "execution_count": 62,
   "metadata": {},
   "outputs": [
    {
     "data": {
      "text/plain": [
       "<matplotlib.collections.PathCollection at 0x10bf3791ca0>"
      ]
     },
     "execution_count": 62,
     "metadata": {},
     "output_type": "execute_result"
    },
    {
     "data": {
      "image/png": "[encoded data removed]",
      "text/plain": [
       "<Figure size 432x288 with 1 Axes>"
      ]
     },
     "metadata": {
      "needs_background": "light"
     },
     "output_type": "display_data"
    }
   ],
   "source": [
    "plt.scatter(X[predicted_class== 2][:, 0], X[predicted_class== 2][:, 1], color= 'r')\n",
    "plt.scatter(X[predicted_class== 1][:, 0], X[predicted_class== 1][:, 1], color= 'k')\n",
    "plt.scatter(X[predicted_class== 0][:, 0], X[predicted_class== 0][:, 1], color= 'g')\n",
    "plt.scatter(X[predicted_class== 3][:, 0], X[predicted_class== 3][:, 1], color= 'b')"
   ]
  },
  {
   "cell_type": "code",
   "execution_count": null,
   "metadata": {},
   "outputs": [],
   "source": []
  }
 ],
 "metadata": {
  "interpreter": {
   "hash": "c569cd2e17f62341e0f08a54f9a867c3c0d3a6f67454072d7de41a8b5dff8343"
  },
  "kernelspec": {
   "display_name": "Python 3.9.6 64-bit",
   "language": "python",
   "name": "python3"
  },
  "language_info": {
   "codemirror_mode": {
    "name": "ipython",
    "version": 3
   },
   "file_extension": ".py",
   "mimetype": "text/x-python",
   "name": "python",
   "nbconvert_exporter": "python",
   "pygments_lexer": "ipython3",
   "version": "3.9.6"
  },
  "orig_nbformat": 4
 },
 "nbformat": 4,
 "nbformat_minor": 2
}
