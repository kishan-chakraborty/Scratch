{
 "cells": [
  {
   "cell_type": "code",
   "execution_count": 1,
   "metadata": {},
   "outputs": [],
   "source": [
    "import numpy as np"
   ]
  },
  {
   "cell_type": "code",
   "execution_count": 32,
   "metadata": {},
   "outputs": [],
   "source": [
    "class LinearRegression(object):\n",
    "    def __init__(self, lr= 0.01, n_iter= 1000):\n",
    "        self.lr= lr\n",
    "        self.n_iter= n_iter\n",
    "        self.weights= None\n",
    "        self.bias= None\n",
    "\n",
    "    def fit(self, X, y):\n",
    "        n_sample, n_feature= X.shape\n",
    "        X= np.array(X)\n",
    "        self.weights= np.random.rand(n_feature)\n",
    "        self.bias= 0\n",
    "\n",
    "        for _ in range(self.n_iter):\n",
    "            y_predicted= np.dot(X, self.weights)\n",
    "            self.weights-= (self.lr/ n_sample)*(X.T).dot(y_predicted- y)\n",
    "            self.bias-= (self.lr/ n_sample)*np.sum(y_predicted- y)\n",
    "\n",
    "    def predict(self, X):\n",
    "        return np.dot(X, self.weights)+ self.bias"
   ]
  },
  {
   "cell_type": "code",
   "execution_count": 3,
   "metadata": {},
   "outputs": [],
   "source": [
    "#Testing the code\n",
    "from sklearn.model_selection import train_test_split\n",
    "from sklearn import datasets\n",
    "from matplotlib import pyplot as plt"
   ]
  },
  {
   "cell_type": "code",
   "execution_count": 4,
   "metadata": {},
   "outputs": [],
   "source": [
    "X, y= datasets.make_regression(n_samples= 100, noise= 20, n_features= 1, random_state= 42)\n",
    "X_train, X_test, y_train, y_test= train_test_split(X, y, random_state= 42, test_size= 0.2)"
   ]
  },
  {
   "cell_type": "code",
   "execution_count": 5,
   "metadata": {},
   "outputs": [
    {
     "name": "stdout",
     "output_type": "stream",
     "text": [
      "Shape of the dataset: (100, 1)\n"
     ]
    }
   ],
   "source": [
    "print('Shape of the dataset:', X.shape)"
   ]
  },
  {
   "cell_type": "code",
   "execution_count": 33,
   "metadata": {},
   "outputs": [],
   "source": [
    "lreg= LinearRegression()\n",
    "lreg.fit(X_train, y_train)"
   ]
  },
  {
   "cell_type": "code",
   "execution_count": 34,
   "metadata": {},
   "outputs": [],
   "source": [
    "y_predict= lreg.predict(X_test)"
   ]
  },
  {
   "cell_type": "code",
   "execution_count": 38,
   "metadata": {},
   "outputs": [
    {
     "name": "stdout",
     "output_type": "stream",
     "text": [
      "average train error is: 4.005144690403619\n",
      "average test error is: 27.891655001075186\n"
     ]
    }
   ],
   "source": [
    "from sklearn.metrics import mean_squared_error\n",
    "msq= mean_squared_error\n",
    "train_pred= lreg.predict(X_train)\n",
    "test_pred= lreg.predict(X_test)\n",
    "\n",
    "train_error= msq(y_train, train_pred)\n",
    "test_error= msq(y_test, test_pred)\n",
    "\n",
    "print('average train error is:', msq(y_train, train_pred)/ len(X_train))\n",
    "print(\"average test error is:\", test_error/ len(X_test))"
   ]
  },
  {
   "cell_type": "code",
   "execution_count": 36,
   "metadata": {},
   "outputs": [],
   "source": [
    "train_min_index= np.argmin(X_train)\n",
    "train_max_index= np.argmax(X_train)\n",
    "\n",
    "train_min_X= X_train[train_min_index]\n",
    "train_max_X= X_train[train_max_index]\n",
    "train_min_y= train_pred[train_min_index]\n",
    "train_max_y= train_pred[train_max_index]\n"
   ]
  },
  {
   "cell_type": "code",
   "execution_count": 37,
   "metadata": {},
   "outputs": [
    {
     "data": {
      "text/plain": [
       "[<matplotlib.lines.Line2D at 0x24aadbdf2e0>]"
      ]
     },
     "execution_count": 37,
     "metadata": {},
     "output_type": "execute_result"
    },
    {
     "data": {
      "image/png": "[encoded data removed]",
      "text/plain": [
       "<Figure size 360x216 with 1 Axes>"
      ]
     },
     "metadata": {
      "needs_background": "light"
     },
     "output_type": "display_data"
    }
   ],
   "source": [
    "fig= plt.figure(figsize= (5, 3))\n",
    "plt.scatter(X_train, y_train, color= 'b', marker= 'o', s= 30)\n",
    "plt.plot((train_min_X, train_max_X), (train_min_y, train_max_y), color= 'r')"
   ]
  }
 ],
 "metadata": {
  "interpreter": {
   "hash": "c569cd2e17f62341e0f08a54f9a867c3c0d3a6f67454072d7de41a8b5dff8343"
  },
  "kernelspec": {
   "display_name": "Python 3.9.6 64-bit",
   "language": "python",
   "name": "python3"
  },
  "language_info": {
   "codemirror_mode": {
    "name": "ipython",
    "version": 3
   },
   "file_extension": ".py",
   "mimetype": "text/x-python",
   "name": "python",
   "nbconvert_exporter": "python",
   "pygments_lexer": "ipython3",
   "version": "3.9.6"
  },
  "orig_nbformat": 4
 },
 "nbformat": 4,
 "nbformat_minor": 2
}
