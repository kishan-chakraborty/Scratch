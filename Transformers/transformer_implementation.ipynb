{
 "cells": [
  {
   "cell_type": "code",
   "execution_count": 2,
   "metadata": {},
   "outputs": [],
   "source": [
    "import torch\n",
    "import torch.nn as nn"
   ]
  },
  {
   "cell_type": "code",
   "execution_count": 18,
   "metadata": {},
   "outputs": [],
   "source": [
    "def scaled_dot_product_attention(query: torch.Tensor, key: torch.Tensor, value: torch.Tensor, mask=None) -> torch.Tensor:\n",
    "    \"\"\"\n",
    "        Each of the input tensor are 3D of shape {batch_size, sequence_length, num_features}\n",
    "    \"\"\"\n",
    "    score = query.bmm(key.transpose(1, 2))   # bmm is batch matrix multiplication. [b, s, f] @ [b, f, s] --> [b, s, s].\n",
    "    dk = key.shape[-1]\n",
    "    scaled = score * (dk ** -0.5)\n",
    "\n",
    "    if mask:\n",
    "        \"\"\"\n",
    "            This condition differentiates between encoder and decoder block. If no mask then every node is allowed to talk to other nodes.\n",
    "            Masking allows to restrict some nodes from talking to other which is useful in case of decoder where words of the future are not\n",
    "            allowed to influence current word.\n",
    "        \"\"\"  \n",
    "        scaled = scaled + mask\n",
    "\n",
    "    attention_weights = torch.softmax(scaled, dim=-1)\n",
    "    out = attention_weights.bmm(value)\n",
    "    return out"
   ]
  },
  {
   "cell_type": "code",
   "execution_count": 20,
   "metadata": {},
   "outputs": [],
   "source": [
    "# Testing the self attention code.\n",
    "Q = torch.randn((5, 3, 4))\n",
    "K = torch.randn((5, 3, 4))\n",
    "V = torch.randn((5, 3, 6))\n",
    "\n",
    "out = scaled_dot_product_attention(Q, K, V)"
   ]
  },
  {
   "cell_type": "code",
   "execution_count": 21,
   "metadata": {},
   "outputs": [
    {
     "name": "stdout",
     "output_type": "stream",
     "text": [
      "torch.Size([5, 3, 6])\n"
     ]
    }
   ],
   "source": [
    "print(out.shape)"
   ]
  },
  {
   "cell_type": "code",
   "execution_count": null,
   "metadata": {},
   "outputs": [],
   "source": [
    "class AttentionHead(nn.Module):\n",
    "    def __init__(self, dim_in: int, dim_q: int, dim_k: int):\n",
    "        "
   ]
  }
 ],
 "metadata": {
  "kernelspec": {
   "display_name": "my_venv",
   "language": "python",
   "name": "python3"
  },
  "language_info": {
   "codemirror_mode": {
    "name": "ipython",
    "version": 3
   },
   "file_extension": ".py",
   "mimetype": "text/x-python",
   "name": "python",
   "nbconvert_exporter": "python",
   "pygments_lexer": "ipython3",
   "version": "3.11.1"
  }
 },
 "nbformat": 4,
 "nbformat_minor": 2
}
