{
 "cells": [
  {
   "cell_type": "code",
   "execution_count": 66,
   "metadata": {},
   "outputs": [],
   "source": [
    "import numpy as np\n",
    "import pandas as pd\n",
    "import matplotlib.pyplot as plt\n",
    "from sklearn.model_selection import train_test_split\n",
    "from collections import Counter"
   ]
  },
  {
   "cell_type": "code",
   "execution_count": 72,
   "metadata": {},
   "outputs": [],
   "source": [
    "def Euclidean(x, y):\n",
    "    return np.sqrt(np.sum((x- y)**2))"
   ]
  },
  {
   "cell_type": "code",
   "execution_count": 81,
   "metadata": {},
   "outputs": [],
   "source": [
    "class KNN:\n",
    "    def __init__(self, k= 3):\n",
    "        self.k= k\n",
    "\n",
    "    def fit(self, X, y):\n",
    "        self.X_train= X\n",
    "        self.y_train= y\n",
    "\n",
    "    def predict(self, X_test):\n",
    "        predict_labels= [self._predict(x) for x in X_test]\n",
    "        return predict_labels\n",
    "\n",
    "    def _predict(self, x):\n",
    "        # compute the distances\n",
    "        distances= [Euclidean(x, x_train) for x_train in self.X_train]\n",
    "        \n",
    "        # get the k nearest samples and labels\n",
    "        k_nearest_distances= np.argsort(distances)[:self.k]\n",
    "        k_nearest_labels= [self.y_train[i] for i in k_nearest_distances]\n",
    "        # do a majority votes and return the most common label\n",
    "        most_common= Counter(k_nearest_labels).most_common(1)\n",
    "        \n",
    "        return most_common[0][0]"
   ]
  },
  {
   "cell_type": "code",
   "execution_count": 82,
   "metadata": {},
   "outputs": [],
   "source": [
    "from sklearn import datasets\n",
    "iris= datasets.load_iris()\n",
    "\n",
    "X_train, X_test, y_train, y_test= train_test_split(iris.data, iris.target, random_state= 42)"
   ]
  },
  {
   "cell_type": "code",
   "execution_count": 83,
   "metadata": {},
   "outputs": [],
   "source": [
    "clf= KNN()\n",
    "clf.fit(X_train, y_train)"
   ]
  },
  {
   "cell_type": "code",
   "execution_count": 84,
   "metadata": {},
   "outputs": [
    {
     "data": {
      "text/plain": [
       "[1, 0, 2, 1, 1]"
      ]
     },
     "execution_count": 84,
     "metadata": {},
     "output_type": "execute_result"
    }
   ],
   "source": [
    "clf.predict(X_test[:5])"
   ]
  },
  {
   "cell_type": "code",
   "execution_count": 85,
   "metadata": {},
   "outputs": [
    {
     "data": {
      "text/plain": [
       "array([1, 0, 2, 1, 1])"
      ]
     },
     "execution_count": 85,
     "metadata": {},
     "output_type": "execute_result"
    }
   ],
   "source": [
    "y_test[:5]"
   ]
  },
  {
   "cell_type": "code",
   "execution_count": 16,
   "metadata": {},
   "outputs": [
    {
     "name": "stdout",
     "output_type": "stream",
     "text": [
      "shape of the training sample:\t (112, 4)\n",
      "unique classes:\t [0 1 2]\n"
     ]
    }
   ],
   "source": [
    "print(\"shape of the training sample:\\t\",X_train.shape)\n",
    "print('unique classes:\\t',np.unique(y_train))"
   ]
  },
  {
   "cell_type": "code",
   "execution_count": 19,
   "metadata": {},
   "outputs": [],
   "source": [
    "class_0= X_train[y_train== 0]\n",
    "class_1= X_train[y_train== 1]\n",
    "class_2= X_train[y_train== 2]"
   ]
  },
  {
   "cell_type": "code",
   "execution_count": 32,
   "metadata": {},
   "outputs": [
    {
     "data": {
      "text/plain": [
       "<matplotlib.collections.PathCollection at 0x23f798c1df0>"
      ]
     },
     "execution_count": 32,
     "metadata": {},
     "output_type": "execute_result"
    },
    {
     "data": {
      "image/png": "[encoded data removed]",
      "text/plain": [
       "<Figure size 576x576 with 1 Axes>"
      ]
     },
     "metadata": {
      "needs_background": "light"
     },
     "output_type": "display_data"
    }
   ],
   "source": [
    "figure= plt.figure(figsize= (8, 8))\n",
    "plt.scatter(class_0[:, 0], class_0[:, 1], c= 'r', marker= 'o', edgecolors= 'k')\n",
    "plt.scatter(class_1[:, 0], class_1[:, 1], c= 'g', marker= '^', edgecolors= 'k')\n",
    "plt.scatter(class_2[:, 0], class_2[:, 1], c= 'b', marker= '*', edgecolors= 'k')"
   ]
  },
  {
   "cell_type": "code",
   "execution_count": 28,
   "metadata": {},
   "outputs": [],
   "source": [
    "def x_arr(arr):\n",
    "    print(*arr)"
   ]
  },
  {
   "cell_type": "code",
   "execution_count": 29,
   "metadata": {},
   "outputs": [
    {
     "name": "stdout",
     "output_type": "stream",
     "text": [
      "1 2 3 4 5 6\n"
     ]
    }
   ],
   "source": [
    "x_arr([1, 2, 3, 4, 5, 6])"
   ]
  },
  {
   "cell_type": "code",
   "execution_count": 32,
   "metadata": {},
   "outputs": [],
   "source": [
    "vowels = ['a', 'e', 'i', 'o', 'u', 'A', 'E', 'I', 'O', 'U'] # Define vowel for the compiiler\n",
    "# a = input('Enter your sentence:\\t')\n",
    "a = 'Ram is a good boy!'\n",
    "b = ''      # Start with an empty string and concatenate all the non vowel characters.\n",
    "for ch in a:    # Iterate over the input string\n",
    "    if ch in vowels:    # If the char is a vowel, do nothing.\n",
    "        pass\n",
    "    else:   # If not vowel add the character to the string.\n",
    "        b = b + ch"
   ]
  },
  {
   "cell_type": "code",
   "execution_count": 33,
   "metadata": {},
   "outputs": [
    {
     "data": {
      "text/plain": [
       "'Rm s  gd by!'"
      ]
     },
     "execution_count": 33,
     "metadata": {},
     "output_type": "execute_result"
    }
   ],
   "source": [
    "b"
   ]
  },
  {
   "cell_type": "code",
   "execution_count": null,
   "metadata": {},
   "outputs": [],
   "source": []
  }
 ],
 "metadata": {
  "interpreter": {
   "hash": "c569cd2e17f62341e0f08a54f9a867c3c0d3a6f67454072d7de41a8b5dff8343"
  },
  "kernelspec": {
   "display_name": "Python 3.9.6 64-bit",
   "language": "python",
   "name": "python3"
  },
  "language_info": {
   "codemirror_mode": {
    "name": "ipython",
    "version": 3
   },
   "file_extension": ".py",
   "mimetype": "text/x-python",
   "name": "python",
   "nbconvert_exporter": "python",
   "pygments_lexer": "ipython3",
   "version": "3.11.1"
  },
  "orig_nbformat": 4
 },
 "nbformat": 4,
 "nbformat_minor": 2
}
