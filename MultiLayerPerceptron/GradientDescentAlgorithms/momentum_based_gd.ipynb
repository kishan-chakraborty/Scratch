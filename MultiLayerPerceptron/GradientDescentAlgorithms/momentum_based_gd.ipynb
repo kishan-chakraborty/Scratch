{
 "cells": [
  {
   "cell_type": "code",
   "execution_count": 8,
   "metadata": {},
   "outputs": [],
   "source": [
    "import numpy as np\n",
    "import matplotlib.pyplot as plt"
   ]
  },
  {
   "cell_type": "markdown",
   "metadata": {},
   "source": [
    "# Momentum based gradient descent\n",
    "1. Optimization algorithm used in back propagation algorithm for training a neural network. \n",
    "2. It is an extension of the basic gradient descent algorithm that helps accelerate convergence, especially in the presence of high curvature.<br>\n",
    "3. Along with the gradient of current time step, it also take into account of the gradient informatio of previous time steps. <br> \n",
    "The momentum for the time step t+1 is calculated as<br>\n",
    "$$\n",
    "    v_{t+1} = \\beta v_{t} + (1-\\beta)\\nabla J(\\theta_t)\n",
    "$$\n",
    "4. Update rule is given by\n",
    "$$\n",
    "    \\theta_{t+1} = \\theta_{t} - \\alpha v_{t+1}\\\\\n",
    "    \\text{instead of } \\\\\n",
    "    \\theta_{t+1} = \\theta_{t} - \\alpha J(\\theta_t)\n",
    "$$\n",
    "5. $\\beta$ is a hyperparameter between 0 to 1, a typical value is 0.9.  We can see by expanding the value of $v_{t}$ that it is an weighted sum<br>\n",
    "of previous gradient values. The much further gradient values are given lesser weights as compared to recent gradients.<br>\n",
    "**Problems**\n",
    "1. The gradients values are used to speed up the process oc achieving minima value (local/ global). This increase in speed may lead to<br>\n",
    "oveshooting from the minima region which result in oscillation around the region of minima.\n",
    "2. nestrov momentum based GD somehow tries to solve the problem."
   ]
  },
  {
   "cell_type": "markdown",
   "metadata": {},
   "source": [
    "# Nestrov accelerated GD\n",
    "The oscillationg convergence problem of momentum GD is partially solved using Netrov GD.\n",
    "1. This method is also called look before you leap. Instead of calculating the gradient at $x_t$, we calculate the gradient at<br>\n",
    "    x = $x_t-\\beta v_{t-1}$. The updated rule mean based on the current momentum we will first calculate the next possible value of x<br>\n",
    "    ie $x_t-\\beta v_{t-1}$ and calculate gradient at that value instead of x.\n",
    "2. By doing so we restrict from making a very high jump based on current momentum reducing the oscillation.\n",
    "3. Ref: [https://youtu.be/dIYDPtHWBNA?list=PLZ2ps__7DhBZVxMrSkTIcG6zZBDKUXCnM&t=462] "
   ]
  },
  {
   "cell_type": "code",
   "execution_count": 40,
   "metadata": {},
   "outputs": [],
   "source": [
    "\"\"\"\n",
    "Testing the above algorithm for a simple optimization problem.\n",
    "The purpose is to demonstrate the working of various gradient descent algorithms.\n",
    "For the purpose we assue that the\n",
    "    - loss function is given by loss(x) = x**2 + x\n",
    "    - the corresponding gradients grad(loss(x)) = 2*x + 1\n",
    "    - range of x = [-2, 2]\n",
    "    - starting value of x = -2\n",
    "    - learning rate = 0.1\n",
    "    - momentum = 0.9\n",
    "To compare various we will use the following criteria\n",
    "    - with each successive iteration, how much improvement did we get?\n",
    "    - what is the current value of x?\n",
    "\"\"\"\n",
    "np.random.seed(42)\n",
    "x = np.random.uniform(-2, 2, 100) # domain\n",
    "y = x**2        # loss\n",
    "grad_y = 2*x    # gradient values"
   ]
  },
  {
   "cell_type": "code",
   "execution_count": 41,
   "metadata": {},
   "outputs": [
    {
     "data": {
      "text/plain": [
       "<matplotlib.collections.PathCollection at 0x208a6270d50>"
      ]
     },
     "execution_count": 41,
     "metadata": {},
     "output_type": "execute_result"
    },
    {
     "data": {
      "image/png": "[encoded data removed]",
      "text/plain": [
       "<Figure size 500x300 with 1 Axes>"
      ]
     },
     "metadata": {},
     "output_type": "display_data"
    }
   ],
   "source": [
    "# Set the figure size\n",
    "plt.figure(figsize=(5, 3))  # Adjust the size as needed\n",
    "plt.scatter(x, y, s=3)"
   ]
  },
  {
   "cell_type": "code",
   "execution_count": 42,
   "metadata": {},
   "outputs": [],
   "source": [
    "beta = 0.9          # Momentum\n",
    "n_iter = 100        # Number of iterations"
   ]
  },
  {
   "cell_type": "code",
   "execution_count": 43,
   "metadata": {},
   "outputs": [],
   "source": [
    "def find_loss(x):\n",
    "    out = x**2\n",
    "    return out\n",
    "\n",
    "def find_gradient(x):\n",
    "    out = 2*x\n",
    "    return out"
   ]
  },
  {
   "cell_type": "code",
   "execution_count": 89,
   "metadata": {},
   "outputs": [],
   "source": [
    "# Implementation of basic gradient descent\n",
    "def basic_gradient_descent(x0=-2, lr=0.1, n_iter=100):\n",
    "    \"\"\"\n",
    "    x0: Initial value of x.\n",
    "    lr: learning rate.\n",
    "    n_iter: No. of iteration.\n",
    "    \"\"\"\n",
    "    losses = np.zeros(n_iter)   # To store the loss at each iteration\n",
    "    xs = np.zeros(n_iter)       # To store the value of y at each iteration\n",
    "    x = x0\n",
    "    for i in range(n_iter):\n",
    "        x = x - lr * find_gradient(x)\n",
    "        loss = find_loss(x)\n",
    "        losses[i] = loss\n",
    "        xs[i] = x\n",
    "\n",
    "    losses_out = np.array(losses)\n",
    "    xs_out = np.array(xs)\n",
    "    return losses_out, xs_out"
   ]
  },
  {
   "cell_type": "code",
   "execution_count": 90,
   "metadata": {},
   "outputs": [],
   "source": [
    "# Implementation of momentum based gradient descent\n",
    "def momentum_gradient_descent(x0=-2, lr=0.1, beta=0.9, n_iter=100):\n",
    "    \"\"\"\n",
    "    x0: Initial value of x.\n",
    "    lr: learning rate.\n",
    "    beta: Momentum value.\n",
    "    n_iter: No. of iteration.\n",
    "    \"\"\"\n",
    "    losses = np.zeros(n_iter)   # To store the loss at each iteration\n",
    "    xs = np.zeros(n_iter)       # To store the value of y at each iteration\n",
    "    x = x0\n",
    "    v = 0\n",
    "    for i in range(n_iter):\n",
    "        v = beta * v + (1-beta) * find_gradient(x)\n",
    "        x = x - lr * v\n",
    "        loss = find_loss(x)\n",
    "        losses[i] = loss\n",
    "        xs[i] = x\n",
    "\n",
    "    losses_out = np.array(losses)\n",
    "    xs_out = np.array(xs)\n",
    "    return losses_out, xs_out"
   ]
  },
  {
   "cell_type": "code",
   "execution_count": 95,
   "metadata": {},
   "outputs": [],
   "source": [
    "# Implementation of momentum based gradient descent\n",
    "def nestrov_accelerated_gradient_descent(x0=-2, lr=0.1, beta=0.9, n_iter=100):\n",
    "    \"\"\"\n",
    "    x0: Initial value of x.\n",
    "    lr: learning rate.\n",
    "    beta: Momentum value.\n",
    "    n_iter: No. of iteration.\n",
    "    \"\"\"\n",
    "    losses = np.zeros(n_iter)   # To store the loss at each iteration\n",
    "    xs = np.zeros(n_iter)       # To store the value of y at each iteration\n",
    "    x = x0\n",
    "    v = 0\n",
    "    for i in range(n_iter):\n",
    "        v = beta * v + (1-beta) * find_gradient(x-beta*v)\n",
    "        x = x - lr * v\n",
    "        loss = find_loss(x)\n",
    "        losses[i] = loss\n",
    "        xs[i] = x\n",
    "\n",
    "    losses_out = np.array(losses)\n",
    "    xs_out = np.array(xs)\n",
    "    return losses_out, xs_out"
   ]
  },
  {
   "cell_type": "code",
   "execution_count": 96,
   "metadata": {},
   "outputs": [],
   "source": [
    "n_iter = 100\n",
    "loss_basic_gd, x_basic_gd = basic_gradient_descent()\n",
    "loss_momentum_gd, x_momentum_gd = momentum_gradient_descent()\n",
    "loss_accelerated_gd, x_accelerated_gd = nestrov_accelerated_gradient_descent()"
   ]
  },
  {
   "cell_type": "code",
   "execution_count": 100,
   "metadata": {},
   "outputs": [
    {
     "data": {
      "text/plain": [
       "[<matplotlib.lines.Line2D at 0x208a9a95790>]"
      ]
     },
     "execution_count": 100,
     "metadata": {},
     "output_type": "execute_result"
    },
    {
     "data": {
      "image/png": "[encoded data removed]",
      "text/plain": [
       "<Figure size 640x480 with 1 Axes>"
      ]
     },
     "metadata": {},
     "output_type": "display_data"
    }
   ],
   "source": [
    "# plt.scatter(x, y, s=3)\n",
    "plt.plot(np.arange(n_iter), loss_basic_gd)          # No oscillation\n",
    "plt.plot(np.arange(n_iter), loss_momentum_gd)       # High oscillation\n",
    "plt.plot(np.arange(n_iter), loss_accelerated_gd)    # Very little oscillation"
   ]
  },
  {
   "cell_type": "code",
   "execution_count": 55,
   "metadata": {},
   "outputs": [
    {
     "data": {
      "text/plain": [
       "array([-0.17179869, -0.13743895, -0.10995116, -0.08796093, -0.07036874,\n",
       "       -0.056295  , -0.045036  , -0.0360288 , -0.02882304, -0.02305843,\n",
       "       -0.01844674, -0.0147574 , -0.01180592, -0.00944473, -0.00755579,\n",
       "       -0.00604463, -0.0048357 , -0.00386856, -0.00309485, -0.00247588])"
      ]
     },
     "execution_count": 55,
     "metadata": {},
     "output_type": "execute_result"
    }
   ],
   "source": [
    "x_basic_gd[-20:]"
   ]
  }
 ],
 "metadata": {
  "kernelspec": {
   "display_name": "my_venv",
   "language": "python",
   "name": "python3"
  },
  "language_info": {
   "codemirror_mode": {
    "name": "ipython",
    "version": 3
   },
   "file_extension": ".py",
   "mimetype": "text/x-python",
   "name": "python",
   "nbconvert_exporter": "python",
   "pygments_lexer": "ipython3",
   "version": "3.11.1"
  }
 },
 "nbformat": 4,
 "nbformat_minor": 2
}
