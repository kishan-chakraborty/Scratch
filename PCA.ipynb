{
 "cells": [
  {
   "cell_type": "code",
   "execution_count": 51,
   "metadata": {},
   "outputs": [],
   "source": [
    "import numpy as np\n",
    "import matplotlib.pyplot as  plt"
   ]
  },
  {
   "cell_type": "code",
   "execution_count": 151,
   "metadata": {},
   "outputs": [],
   "source": [
    "class pca():\n",
    "    def __init__(self, n_components: int= None):\n",
    "        self.n_components= n_components\n",
    "\n",
    "    def fit_transform(self, X: np.ndarray):\n",
    "        if not self.n_components:\n",
    "            n_components= min(X.shape)\n",
    "\n",
    "        #Scale the data set\n",
    "        self.X_scaled= X- np.mean(X, axis= 0)\n",
    "\n",
    "        self.cov= np.cov(self.X_scaled.T) #Calculating the covariance matrix\n",
    "\n",
    "        e_val, e_vec= np.linalg.eig(self.cov) #Calculating the eigen values and eigen vectors\n",
    "\n",
    "        #Sorting the eigen vectors accoridng to the maximum eigenvalue\n",
    "        sorted_index= np.argsort(e_val)[::-1]\n",
    "        self.e_val= e_val[sorted_index]\n",
    "        self.e_vec= e_vec[:, sorted_index]\n",
    "\n",
    "        #Eigenvectors\n",
    "        self.prinicipal_components= self.e_vec[:, :self.n_components]\n",
    "\n",
    "        return X.dot(self.prinicipal_components)\n",
    "\n"
   ]
  },
  {
   "cell_type": "code",
   "execution_count": 64,
   "metadata": {},
   "outputs": [],
   "source": [
    "data= [[1, 1.1],\n",
    "       [1.5, 1],\n",
    "       [2, 1.3],\n",
    "       [2.5, 1.5],\n",
    "       [3, 0.9]]\n",
    "data= np.matrix(data)"
   ]
  },
  {
   "cell_type": "code",
   "execution_count": 74,
   "metadata": {},
   "outputs": [
    {
     "data": {
      "text/plain": [
       "(0.8, 1.8)"
      ]
     },
     "execution_count": 74,
     "metadata": {},
     "output_type": "execute_result"
    },
    {
     "data": {
      "image/png": "[encoded data removed]",
      "text/plain": [
       "<Figure size 432x288 with 1 Axes>"
      ]
     },
     "metadata": {
      "needs_background": "light"
     },
     "output_type": "display_data"
    }
   ],
   "source": [
    "#visualizing the data set\n",
    "figure= plt.figure()\n",
    "plt.scatter([data[:, 0]], [data[:, 1]])\n",
    "plt.xlim([0.5, 3.2])\n",
    "plt.ylim([0.8, 1.8])"
   ]
  },
  {
   "cell_type": "code",
   "execution_count": 88,
   "metadata": {},
   "outputs": [
    {
     "data": {
      "text/plain": [
       "matrix([[1.0239901 , 1.07770324],\n",
       "        [1.52166578, 0.96671261],\n",
       "        [2.02815337, 1.2556249 ],\n",
       "        [2.53243799, 1.44456146],\n",
       "        [3.01909877, 0.83369217]])"
      ]
     },
     "execution_count": 88,
     "metadata": {},
     "output_type": "execute_result"
    }
   ],
   "source": [
    "# We want to reduce the dimensionality using PCA\n",
    "pca.fit_transform(data)"
   ]
  },
  {
   "cell_type": "code",
   "execution_count": null,
   "metadata": {},
   "outputs": [
    {
     "name": "stdout",
     "output_type": "stream",
     "text": [
      "variance along x axis: 0.5\n",
      "variance along y axis 0.0464\n"
     ]
    }
   ],
   "source": [
    "# Check variance along all the directions\n",
    "print('variance along x axis:', np.var(data[:, 0]))\n",
    "print('variance along y axis', np.var(data[:, 1]))"
   ]
  },
  {
   "cell_type": "code",
   "execution_count": 91,
   "metadata": {},
   "outputs": [
    {
     "name": "stdout",
     "output_type": "stream",
     "text": [
      "covariance matrix:\n",
      " [[0.625  0.0125]\n",
      " [0.0125 0.058 ]]\n"
     ]
    }
   ],
   "source": [
    "# covariance and correlaton are quite similar. if both r.v are inncreasing or decreasing\n",
    "# they have high covariance(correation). Covariance are bounded between -1 to 1 and correlation  \n",
    "cov_mat= pca.cov\n",
    "print('covariance matrix:\\n', cov_mat)"
   ]
  },
  {
   "cell_type": "markdown",
   "metadata": {},
   "source": [
    "cov_mat[0,0]= var(x) <br>\n",
    "cov_mat[0,1]= cov[1,0]= cov(x, y), <br>\n",
    "cov_mat[1,1]= var(y)"
   ]
  },
  {
   "cell_type": "code",
   "execution_count": 92,
   "metadata": {},
   "outputs": [
    {
     "data": {
      "text/plain": [
       "array([0.62527544, 0.05772456])"
      ]
     },
     "execution_count": 92,
     "metadata": {},
     "output_type": "execute_result"
    }
   ],
   "source": [
    "pca.e_val"
   ]
  },
  {
   "cell_type": "code",
   "execution_count": 93,
   "metadata": {},
   "outputs": [
    {
     "data": {
      "text/plain": [
       "array([[ 0.99975731, -0.0220298 ],\n",
       "       [ 0.0220298 ,  0.99975731]])"
      ]
     },
     "execution_count": 93,
     "metadata": {},
     "output_type": "execute_result"
    }
   ],
   "source": [
    "pca.e_vec"
   ]
  },
  {
   "cell_type": "code",
   "execution_count": 103,
   "metadata": {},
   "outputs": [],
   "source": [
    "max_projected_data= data.dot(pca.e_vec[:, 0])\n",
    "min_projected_data= data.dot(pca.e_vec[:, 1])"
   ]
  },
  {
   "cell_type": "code",
   "execution_count": 102,
   "metadata": {},
   "outputs": [
    {
     "name": "stdout",
     "output_type": "stream",
     "text": [
      "Actual data along x axis: [[1. ]\n",
      " [1.5]\n",
      " [2. ]\n",
      " [2.5]\n",
      " [3. ]]\n",
      "Projected data along x axis: [[1.0239901  1.52166578 2.02815337 2.53243799 3.01909877]]\n"
     ]
    }
   ],
   "source": [
    "print('Actual data along x axis:',data[:, 0])\n",
    "print('Projected data along x axis:',max_projected_data)"
   ]
  },
  {
   "cell_type": "code",
   "execution_count": 104,
   "metadata": {},
   "outputs": [
    {
     "name": "stdout",
     "output_type": "stream",
     "text": [
      "Actual data along x axis: [[1.1]\n",
      " [1. ]\n",
      " [1.3]\n",
      " [1.5]\n",
      " [0.9]]\n",
      "Projected data along x axis: [[1.07770324 0.96671261 1.2556249  1.44456146 0.83369217]]\n"
     ]
    }
   ],
   "source": [
    "print('Actual data along x axis:',data[:, 1])\n",
    "print('Projected data along x axis:',min_projected_data)"
   ]
  }
 ],
 "metadata": {
  "interpreter": {
   "hash": "c569cd2e17f62341e0f08a54f9a867c3c0d3a6f67454072d7de41a8b5dff8343"
  },
  "kernelspec": {
   "display_name": "Python 3.9.6 64-bit",
   "language": "python",
   "name": "python3"
  },
  "language_info": {
   "codemirror_mode": {
    "name": "ipython",
    "version": 3
   },
   "file_extension": ".py",
   "mimetype": "text/x-python",
   "name": "python",
   "nbconvert_exporter": "python",
   "pygments_lexer": "ipython3",
   "version": "3.9.6"
  },
  "orig_nbformat": 4
 },
 "nbformat": 4,
 "nbformat_minor": 2
}
