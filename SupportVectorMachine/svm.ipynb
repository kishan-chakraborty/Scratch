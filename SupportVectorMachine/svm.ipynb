{
 "cells": [
  {
   "cell_type": "code",
   "execution_count": 1,
   "metadata": {},
   "outputs": [],
   "source": [
    "import numpy as np"
   ]
  },
  {
   "cell_type": "markdown",
   "metadata": {},
   "source": [
    "# Maximum Margin Classifier\n",
    "Befor starting with SVM, it is important to understand the concept of maximum margin classifier(MMC) since SVM is a generalization of MMC.<br>\n",
    "1. MMC is a supervised learning algorithm intended for binary classification problems where  the two classes are linearly separable.<br>\n",
    "2. The primary idea is to insert slab with the largest width which can separate two different classes.<br>\n",
    "3. The hyperplane which pass through the middle of the slab is called the **optimal separating hyperplane**. The minimum distance between the <br>   OSH and points of the classes is called the margin.<br>"
   ]
  },
  {
   "cell_type": "markdown",
   "metadata": {},
   "source": [
    "**Problem Statement**<br>\n",
    "Let, $X_{n\\times p}$ and $y_{n\\times 1}$ are the predictors and response variables. Let, $f(x) = \\beta_0 + \\sum_{j=1}^p x_j\\beta_j=\\beta_0 + \\beta^Tx$  be the optimal separating hyperplane, st <br> \n",
    "$$ \n",
    "y_i=\n",
    "\\begin{cases}\n",
    "    1,& \\text{if } f(x_i)>0\\\\\n",
    "    -1,&  \\text{if } f(x_i)<0\n",
    "\\end{cases}\n",
    "$$\n",
    "We can say that the separating hyperplane has the property that, $y_i\\times f(x_i) \\geq 0$. Our goal is to evaluate the values of the $\\beta's$ <br> to find the optimal separating hyperplane. Without lack of generality we can write the above equation as $y_i(\\beta_0 + \\beta^Tx) \\geq 0$ where $||\\beta||=1$"
   ]
  },
  {
   "cell_type": "markdown",
   "metadata": {},
   "source": [
    "**Calculating the width of the margin**<br>\n",
    "Let x_{+} and "
   ]
  },
  {
   "cell_type": "code",
   "execution_count": null,
   "metadata": {},
   "outputs": [],
   "source": []
  }
 ],
 "metadata": {
  "kernelspec": {
   "display_name": "my_venv",
   "language": "python",
   "name": "python3"
  },
  "language_info": {
   "codemirror_mode": {
    "name": "ipython",
    "version": 3
   },
   "file_extension": ".py",
   "mimetype": "text/x-python",
   "name": "python",
   "nbconvert_exporter": "python",
   "pygments_lexer": "ipython3",
   "version": "3.11.1"
  }
 },
 "nbformat": 4,
 "nbformat_minor": 2
}
