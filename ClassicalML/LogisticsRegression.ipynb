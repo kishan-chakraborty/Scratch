{
 "cells": [
  {
   "cell_type": "code",
   "execution_count": 29,
   "metadata": {},
   "outputs": [],
   "source": [
    "import numpy as np"
   ]
  },
  {
   "cell_type": "code",
   "execution_count": 30,
   "metadata": {},
   "outputs": [],
   "source": [
    "class LogisticRegression(object):\n",
    "    def __init__(self, n_iter= 1000, lr= 0.001):\n",
    "        self.lr= lr\n",
    "        self.wwights= None\n",
    "        self.n_iter= n_iter\n",
    "        self.bias= None\n",
    "\n",
    "    def _sigmoid(self, z):\n",
    "        return 1/ (1+ np.exp(-z))\n",
    "\n",
    "    def fit(self, X, y):\n",
    "        n_sample, n_features= X.shape\n",
    "        self.weights= np.random.rand(n_features) #Initializing the weights and bias\n",
    "        self.bias= 0\n",
    "\n",
    "        for _ in range(self.n_iter):\n",
    "            g_x= np.dot(X, self.weights)+ self.bias #Predict the value using sigmoid\n",
    "            y_predicted= self._sigmoid(g_x)\n",
    "\n",
    "            #Updating the weights and biases using gradient descent\n",
    "            self.weights-= -(self.lr/ n_sample)*np.sum(y*np.log(y_predicted)+ (1- y)*np.log(1- y_predicted))\n",
    "            self.bias-= (self.lr/ n_sample)*np.sum(y_predicted- y)\n",
    "\n",
    "    def predict(self, X):\n",
    "        g_x= np.dot(X, self.weights)+ self.bias\n",
    "        self.y_predicted= self._sigmoid(g_x)\n",
    "        self.y_predicted_classes= [1 if i> 0.5 else 0 for i in self.y_predicted]\n",
    "        return self.y_predicted_classes"
   ]
  },
  {
   "cell_type": "code",
   "execution_count": 31,
   "metadata": {},
   "outputs": [],
   "source": [
    "from sklearn.model_selection import train_test_split\n",
    "from sklearn import datasets\n",
    "import matplotlib.pyplot as plt\n",
    "from sklearn.preprocessing import StandardScaler"
   ]
  },
  {
   "cell_type": "code",
   "execution_count": 32,
   "metadata": {},
   "outputs": [],
   "source": [
    "breast_cancer= datasets.load_breast_cancer()\n",
    "X, y= breast_cancer.data, breast_cancer.target"
   ]
  },
  {
   "cell_type": "code",
   "execution_count": 33,
   "metadata": {},
   "outputs": [
    {
     "name": "stdout",
     "output_type": "stream",
     "text": [
      "Shape of X: (569, 30)\n"
     ]
    }
   ],
   "source": [
    "print('Shape of X:', X.shape)"
   ]
  },
  {
   "cell_type": "code",
   "execution_count": 34,
   "metadata": {},
   "outputs": [],
   "source": [
    "X_train, X_test, y_train, y_test= train_test_split(X, y)\n",
    "scaler= StandardScaler()\n",
    "X_train= scaler.fit_transform(X_train)\n",
    "X_test= scaler.transform(X_test)\n",
    "\n",
    "X_train_zeros= X_train[y_train== 0]\n",
    "X_train_ones= X_train[y_train== 1]\n"
   ]
  },
  {
   "cell_type": "code",
   "execution_count": 35,
   "metadata": {},
   "outputs": [
    {
     "data": {
      "text/plain": [
       "<matplotlib.collections.PathCollection at 0x226fc43b2e0>"
      ]
     },
     "execution_count": 35,
     "metadata": {},
     "output_type": "execute_result"
    },
    {
     "data": {
      "image/png": "[encoded data removed]",
      "text/plain": [
       "<Figure size 576x360 with 1 Axes>"
      ]
     },
     "metadata": {
      "needs_background": "light"
     },
     "output_type": "display_data"
    }
   ],
   "source": [
    "figure=  plt.figure(figsize= (8, 5))\n",
    "plt.scatter(X_train_zeros[:, 0], X_train_zeros[:, 1], marker= 'o', color= 'r')\n",
    "plt.scatter(X_train_ones[:, 0], X_train_ones[:, 1], marker= '*', color= 'k')"
   ]
  },
  {
   "cell_type": "code",
   "execution_count": 36,
   "metadata": {},
   "outputs": [],
   "source": [
    "log_reg= LogisticRegression()\n",
    "log_reg.fit(X_train, y_train)\n",
    "train_predict= log_reg.predict(X_train)\n",
    "test_predict= log_reg.predict(X_test)"
   ]
  },
  {
   "cell_type": "code",
   "execution_count": 39,
   "metadata": {},
   "outputs": [],
   "source": [
    "def accuracy(y_true, y_predicted):\n",
    "    accuracy= np.sum(y_true== y_predicted)/ len(y_true)\n",
    "    return accuracy"
   ]
  },
  {
   "cell_type": "code",
   "execution_count": 42,
   "metadata": {},
   "outputs": [
    {
     "name": "stdout",
     "output_type": "stream",
     "text": [
      "train  accuarcy is: 0.8732394366197183\n"
     ]
    }
   ],
   "source": [
    "train_accuracy= accuracy(y_train, train_predict)\n",
    "print('train  accuarcy is:', train_accuracy)"
   ]
  },
  {
   "cell_type": "code",
   "execution_count": null,
   "metadata": {},
   "outputs": [],
   "source": []
  }
 ],
 "metadata": {
  "interpreter": {
   "hash": "c569cd2e17f62341e0f08a54f9a867c3c0d3a6f67454072d7de41a8b5dff8343"
  },
  "kernelspec": {
   "display_name": "Python 3.9.6 64-bit",
   "language": "python",
   "name": "python3"
  },
  "language_info": {
   "codemirror_mode": {
    "name": "ipython",
    "version": 3
   },
   "file_extension": ".py",
   "mimetype": "text/x-python",
   "name": "python",
   "nbconvert_exporter": "python",
   "pygments_lexer": "ipython3",
   "version": "3.9.6"
  },
  "orig_nbformat": 4
 },
 "nbformat": 4,
 "nbformat_minor": 2
}
