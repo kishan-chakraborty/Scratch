{
 "cells": [
  {
   "cell_type": "code",
   "execution_count": 51,
   "metadata": {},
   "outputs": [],
   "source": [
    "import numpy as np\n",
    "from sklearn.datasets import make_blobs\n",
    "import matplotlib.pyplot as plt"
   ]
  },
  {
   "cell_type": "code",
   "execution_count": 128,
   "metadata": {},
   "outputs": [
    {
     "name": "stdout",
     "output_type": "stream",
     "text": [
      "(500, 2)\n"
     ]
    }
   ],
   "source": [
    "# Generate data\n",
    "X, y= make_blobs(centers= 4, n_samples= 500, n_features= 2, shuffle= True, random_state= 42)\n",
    "print(X.shape)"
   ]
  },
  {
   "cell_type": "markdown",
   "metadata": {},
   "source": [
    "**K Means ++ algorithm for better initialization**<br>\n",
    "1. Select the first centroid at random.<br>\n",
    "2. a. Now calculate the distant between all the points which are not centroid and the closet centroid point.<br>\n",
    "    b. Normalize the calculated distance and use the normalized distance as probability distribution for selecting the next centroid.<br>\n",
    "    The point with the largest distance has higher probability to get selected as the next centroid.<br>\n",
    "3. Repeat step 2 until all the centroids are calculated."
   ]
  },
  {
   "cell_type": "code",
   "execution_count": 118,
   "metadata": {},
   "outputs": [],
   "source": [
    "# X = np.random.randn(10, 2)"
   ]
  },
  {
   "cell_type": "code",
   "execution_count": 129,
   "metadata": {},
   "outputs": [],
   "source": [
    "n_sample, n_feat = X.shape\n",
    "k = 4\n",
    "centroids = np.zeros((k, n_feat))"
   ]
  },
  {
   "cell_type": "code",
   "execution_count": 136,
   "metadata": {},
   "outputs": [
    {
     "name": "stdout",
     "output_type": "stream",
     "text": [
      "[[-8.90849347  5.66256198]]\n",
      "[[-5.21415275 -5.86573953]]\n",
      "[[3.74146416 2.46508886]]\n"
     ]
    }
   ],
   "source": [
    "# Find the distance between centroids and data points\n",
    "np.random.seed(42)\n",
    "\n",
    "idx1 = np.random.choice(range(n_sample), size=1, replace=False)\n",
    "centroids[0] = X[idx1]\n",
    "distances = []\n",
    "\n",
    "for i in range(1, k):\n",
    "    # Calculate the distance between last centroid and all the remaining points.\n",
    "    distance =  ((X - centroids[i-1]) *\n",
    "                (X - centroids[i-1])).sum(axis=1)\n",
    "    distances.append(distance)\n",
    "    # Find the minimum distance among all the centroids.\n",
    "    distance2 = np.min(distances, axis=0)\n",
    "    # Normalise the calculated distances to form probability distribution.\n",
    "    prob = distance2 / distance2.sum()\n",
    "    # Find the next centroid based on the calculated prob distribution.\n",
    "    centroid_next = np.random.choice(range(n_sample), size=1, p=prob)\n",
    "    # centroid_next = prob.argmax()\n",
    "    print(X[centroid_next])\n",
    "    centroids[i] = X[centroid_next]"
   ]
  },
  {
   "cell_type": "code",
   "execution_count": 137,
   "metadata": {},
   "outputs": [
    {
     "data": {
      "text/plain": [
       "<matplotlib.collections.PathCollection at 0x267966c4550>"
      ]
     },
     "execution_count": 137,
     "metadata": {},
     "output_type": "execute_result"
    },
    {
     "data": {
      "image/png": "[encoded data removed]",
      "text/plain": [
       "<Figure size 640x480 with 1 Axes>"
      ]
     },
     "metadata": {},
     "output_type": "display_data"
    }
   ],
   "source": [
    "plt.scatter(X[:, 0], X[:, 1])\n",
    "plt.scatter(centroids[:, 0], centroids[:, 1], c='r')\n",
    "# plt.scatter(centroids2[:, 0], centroids2[:, 1], c='k')"
   ]
  },
  {
   "cell_type": "code",
   "execution_count": 167,
   "metadata": {},
   "outputs": [],
   "source": [
    "def assign_centroid(X, centroids):\n",
    "    # Calculate the distance between each points from the centroids\n",
    "    distances = np.zeros((len(centroids), X.shape[0]))\n",
    "    for i, centroid in enumerate(centroids):\n",
    "        distance = np.sum((X - centroid) * (X - centroid), axis=1)\n",
    "        distances[i] = distance\n",
    "    out = np.argmin(distances, axis=0)\n",
    "    return out\n",
    "\n",
    "def assign_centroid_parallel(X, centroids: np.array) -> np.array:\n",
    "    \"\"\"\n",
    "        X: training data set.\n",
    "        centroids: numpy array containing the current centroids. shape: [k, X.shape[1]]\n",
    "    \"\"\"\n",
    "    # Reshape the centroid array to parallelize jthe distance calculation.\n",
    "    centroids3d = centroids.reshape(centroids.shape[0], 1, centroids.shape[1])    # shape: [k,1, X.shape[1]]\n",
    "    distance = ((X - centroids3d) * (X - centroids3d)).sum(axis=-1)     # shape: [k, X.shape[1]]\n",
    "    out = distance.argmin(axis=0)   # shape: [x.shape[1]]\n",
    "    return out"
   ]
  },
  {
   "cell_type": "code",
   "execution_count": 180,
   "metadata": {},
   "outputs": [
    {
     "name": "stdout",
     "output_type": "stream",
     "text": [
      "[[ 1.63885999e+00  2.25235353e-01]\n",
      " [ 1.66429536e-01  8.07555632e-01]\n",
      " [ 9.24152383e-01  8.12856464e-01]\n",
      " [-1.35072195e+00 -6.37235532e-01]\n",
      " [-6.56528951e-01 -7.79080229e-01]\n",
      " [-8.72103765e-01 -6.71023911e-01]\n",
      " [ 3.35948743e-01  4.94409287e-01]\n",
      " [-1.63596664e-03 -4.26032339e-01]\n",
      " [ 1.27546325e+00 -9.15660606e-02]\n",
      " [ 9.37072520e-01 -5.69326131e-01]]\n",
      "[[1.63885999 0.22523535]\n",
      " [0.92415238 0.81285646]]\n"
     ]
    }
   ],
   "source": [
    "# Parallelizing the distance calculation\n",
    "arr = np.random.randn(10, 2)\n",
    "print(arr)\n",
    "centroids = np.array([arr[0],\n",
    "                      arr[2]])\n",
    "print(centroids)"
   ]
  },
  {
   "cell_type": "code",
   "execution_count": 181,
   "metadata": {},
   "outputs": [],
   "source": [
    "centroid_assigned = assign_centroid(arr, centroids)\n",
    "centroid_assigned_parallel = assign_centroid_parallel(arr, centroids)"
   ]
  },
  {
   "cell_type": "code",
   "execution_count": 169,
   "metadata": {},
   "outputs": [
    {
     "data": {
      "text/plain": [
       "True"
      ]
     },
     "execution_count": 169,
     "metadata": {},
     "output_type": "execute_result"
    }
   ],
   "source": [
    "(centroid_assigned == centroid_assigned_parallel).all()"
   ]
  },
  {
   "cell_type": "code",
   "execution_count": 185,
   "metadata": {},
   "outputs": [],
   "source": [
    "def update_centroids(X, current_centroids, assigned_centroids):\n",
    "    new_centroids = []\n",
    "    for i in range(len(current_centroids)):\n",
    "        idx_i = assigned_centroids[assigned_centroids == i]\n",
    "        new_centroid = X[idx_i].mean(axis=0)\n",
    "        new_centroids.append(new_centroid)\n",
    "    return new_centroids"
   ]
  },
  {
   "cell_type": "code",
   "execution_count": 173,
   "metadata": {},
   "outputs": [
    {
     "data": {
      "text/plain": [
       "array([[-0.3233728 , -1.66011742],\n",
       "       [-0.6462995 , -0.40355496]])"
      ]
     },
     "execution_count": 173,
     "metadata": {},
     "output_type": "execute_result"
    }
   ],
   "source": [
    "arr1 = np.array([1, 2, 1, 2, 2, 3, 0, 4, 3, 5])\n",
    "arr[arr1 == 1]"
   ]
  },
  {
   "cell_type": "code",
   "execution_count": 186,
   "metadata": {},
   "outputs": [],
   "source": [
    "centroids_updated = update_centroids(arr, centroids, centroid_assigned_parallel)"
   ]
  },
  {
   "cell_type": "code",
   "execution_count": 187,
   "metadata": {},
   "outputs": [
    {
     "data": {
      "text/plain": [
       "[array([1.63885999, 0.22523535]), array([0.16642954, 0.80755563])]"
      ]
     },
     "execution_count": 187,
     "metadata": {},
     "output_type": "execute_result"
    }
   ],
   "source": [
    "centroids_updated"
   ]
  },
  {
   "cell_type": "code",
   "execution_count": 189,
   "metadata": {},
   "outputs": [
    {
     "data": {
      "text/plain": [
       "array([[1.63885999, 0.22523535],\n",
       "       [0.92415238, 0.81285646]])"
      ]
     },
     "execution_count": 189,
     "metadata": {},
     "output_type": "execute_result"
    }
   ],
   "source": [
    "centroids"
   ]
  },
  {
   "cell_type": "code",
   "execution_count": null,
   "metadata": {},
   "outputs": [],
   "source": []
  }
 ],
 "metadata": {
  "kernelspec": {
   "display_name": "my_venv",
   "language": "python",
   "name": "python3"
  },
  "language_info": {
   "codemirror_mode": {
    "name": "ipython",
    "version": 3
   },
   "file_extension": ".py",
   "mimetype": "text/x-python",
   "name": "python",
   "nbconvert_exporter": "python",
   "pygments_lexer": "ipython3",
   "version": "3.11.1"
  }
 },
 "nbformat": 4,
 "nbformat_minor": 2
}
